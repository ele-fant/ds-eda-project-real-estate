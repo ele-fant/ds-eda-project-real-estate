{
 "cells": [
  {
   "cell_type": "markdown",
   "id": "daf27f7f-dc57-477e-9294-321bd6fb5861",
   "metadata": {},
   "source": [
    "# EDA Project 1\n",
    "\n"
   ]
  },
  {
   "cell_type": "markdown",
   "id": "6d8e31cc-3278-4145-8cb1-697502edd101",
   "metadata": {},
   "source": [
    "## In this notebook\n",
    "\n",
    "After data exploration, the next focus will be building predictive models."
   ]
  },
  {
   "cell_type": "markdown",
   "id": "6b601dbd-2673-44ba-9790-f705ab814571",
   "metadata": {},
   "source": [
    "## Stakeholder\n",
    "**Erin Robinson** \n",
    "- Buyer \n",
    "- Invest in poor neighbourhood, buying & selling, costs back + little profit \n",
    "- socially responsible"
   ]
  },
  {
   "cell_type": "markdown",
   "id": "b64abe4b-02c4-4edd-b307-6215e8c8ec73",
   "metadata": {},
   "source": [
    "### 0. Set-up"
   ]
  },
  {
   "cell_type": "markdown",
   "id": "0b5721fc-fbd3-472e-9136-33abf0f2e06a",
   "metadata": {},
   "source": [
    "***Loading packages and data frame(s)***\n",
    "\n",
    "---"
   ]
  },
  {
   "cell_type": "code",
   "execution_count": null,
   "id": "71091aa2-6426-4b7b-86fb-6a6238319416",
   "metadata": {},
   "outputs": [],
   "source": [
    "# import relevant packages\n",
    "import pandas as pd\n",
    "import numpy as np\n",
    "import matplotlib.pyplot as plt\n",
    "import matplotlib.ticker as mtick\n",
    "import plotly.express as px\n",
    "import seaborn as sns\n",
    "from datetime import datetime, date, time, timedelta\n",
    "\n",
    "# plotting by states -- not yet functional !!!\n",
    "import plotly.figure_factory as ff"
   ]
  },
  {
   "cell_type": "code",
   "execution_count": null,
   "id": "752051f1-e68c-436c-a865-e8c50998014f",
   "metadata": {},
   "outputs": [],
   "source": [
    "# create main data frame\n",
    "df = pd.read_csv('../data/real-estate-KC.csv')"
   ]
  },
  {
   "cell_type": "code",
   "execution_count": null,
   "id": "f154dfa5-3e95-4c31-b097-4ee3036a8d29",
   "metadata": {},
   "outputs": [],
   "source": [
    "df.head()"
   ]
  },
  {
   "cell_type": "markdown",
   "id": "443736ce-5054-4416-a61c-4b05e1580cd0",
   "metadata": {},
   "source": [
    "### 2. Building hypotheses\n",
    "\n",
    "---"
   ]
  },
  {
   "cell_type": "markdown",
   "id": "57016453-9e80-4d78-91a4-f4dc53e72b1e",
   "metadata": {},
   "source": [
    "- price and number of bedrooms correlate\n",
    "- poor neighborhoods have lower grades\n",
    "- lot size is smaller in poor neighborhoods\n",
    "- "
   ]
  },
  {
   "cell_type": "markdown",
   "id": "299eda7d-dd58-4bf9-bb7b-e11d5730d91d",
   "metadata": {},
   "source": [
    "### 3. Testing hypotheses & building a model\n",
    "\n",
    "---"
   ]
  },
  {
   "cell_type": "code",
   "execution_count": null,
   "id": "50bda416-0420-4bdc-8fa0-d741a785e5ba",
   "metadata": {},
   "outputs": [],
   "source": [
    "pd.pivot_table(df, values='grade', index='price_category', columns='income_category')#, aggfunc=np.max)"
   ]
  },
  {
   "cell_type": "markdown",
   "id": "592a3fe3-2f63-4737-a5d3-cec86cdb71b1",
   "metadata": {},
   "source": [
    "> **median income** (based on zipcode): average grade does not necessarily increase while median income increases\n",
    "\n",
    "> **Observation**: the higher the grade, the higher the price"
   ]
  },
  {
   "cell_type": "code",
   "execution_count": null,
   "id": "7a536f6e-5e98-4131-a0b3-65bac942bb7a",
   "metadata": {},
   "outputs": [],
   "source": [
    "df.groupby('price_category').mean()[['grade', 'condition', 'bedrooms', 'bathrooms', \n",
    "                                     'sqft_living', 'sqft_lot', 'sqft_living15', 'sqft_lot15', 'renovated']]"
   ]
  },
  {
   "cell_type": "markdown",
   "id": "dec67dbc-aecb-44d9-8a98-5e4b0c7ad1cd",
   "metadata": {},
   "source": [
    "> higher price can be associated with higher average grade of the object\n",
    "\n",
    "> higher pice can be associated with higher average number of bedrooms/bathrooms"
   ]
  },
  {
   "cell_type": "code",
   "execution_count": null,
   "id": "3df3d561-d77d-463b-8165-17a216de0d08",
   "metadata": {},
   "outputs": [],
   "source": [
    "from scipy import stats\n",
    "import statsmodels.api as sms\n",
    "import statsmodels.formula.api as smf"
   ]
  },
  {
   "cell_type": "code",
   "execution_count": null,
   "id": "d0977103-58f8-49bf-85c4-5764fbee2d9d",
   "metadata": {},
   "outputs": [],
   "source": [
    "X = df[['condition']]\n",
    "y = df['median_income']\n",
    "# Our model needs an intercept so we add a column of 1s:\n",
    "X = sms.add_constant(X)\n",
    "\n",
    "# Create an OLS model\n",
    "model = sms.OLS(y, X)\n",
    "\n",
    "# use the data to calculate the intercept and slope\n",
    "results = model.fit()\n",
    "# return the output of the model\n",
    "results.summary()"
   ]
  },
  {
   "cell_type": "code",
   "execution_count": null,
   "id": "7db3a277-c92f-40ef-b88f-fb8d97aa1681",
   "metadata": {},
   "outputs": [],
   "source": [
    "X3 = df[['median_income', 'sqft_living', 'condition', 'sqft_lot']]\n",
    "sns.pairplot(X3);"
   ]
  },
  {
   "cell_type": "code",
   "execution_count": null,
   "id": "10493ff7-211b-45a2-a03a-d29c53e9df98",
   "metadata": {},
   "outputs": [],
   "source": [
    "X3 = sm.add_constant(X3)\n",
    "y3 = df.price\n",
    "\n",
    "model3 = sm.OLS(y3, X3)\n",
    "results3 = model3.fit()\n",
    "results3.summary()"
   ]
  },
  {
   "cell_type": "code",
   "execution_count": null,
   "id": "d1c3a868-0ddc-409e-ab6a-8615585909d9",
   "metadata": {},
   "outputs": [],
   "source": [
    "import itertools\n",
    "    \n",
    "#data = {'source':['B1','B1','B1','C2','C2','C2'],\n",
    " #       'depth':[1,4,9,1,3,10],\n",
    "  #      'value':[10,4,23,78,24,45]}\n",
    "\n",
    "#df = pd.DataFrame(data)\n",
    "\n",
    "f, ((ax1, ax2),(ax3, ax4)) = plt.subplots(2,2, figsize=(18,10))\n",
    "\n",
    "# set palette \n",
    "palette = itertools.cycle(sns.color_palette(\"BrBG\", 7))\n",
    "df2 = df.query('price < 350000 & price > 250000')\n",
    "df3 = df.query('price < 250000 & price > 150000')\n",
    "df4 = df.query('price < 150000')\n",
    "\n",
    "# plotting \n",
    "for source in df['price_category'].unique():\n",
    "    x = df.loc[df['price_category'] == source, 'long']\n",
    "    y = df.loc[df['price_category'] == source, 'lat']\n",
    "    x2 = df2.loc[df2['price_category'] == source, 'long']\n",
    "    y2 = df2.loc[df2['price_category'] == source, 'lat']\n",
    "    x3 = df3.loc[df3['price_category'] == source, 'long']\n",
    "    y3 = df3.loc[df3['price_category'] == source, 'lat']\n",
    "    x4 = df4.loc[df4['price_category'] == source, 'long']\n",
    "    y4 = df4.loc[df4['price_category'] == source, 'lat']\n",
    "    \n",
    "    # color\n",
    "    c = next(palette)\n",
    "    sns.regplot(x,\n",
    "                y,\n",
    "                scatter = True,\n",
    "                fit_reg = True,\n",
    "                label = source,\n",
    "                ax = ax1,\n",
    "                color=c, scatter_kws={'s':6})\n",
    "    ax1.legend()\n",
    "    sns.regplot(x2,\n",
    "                y2,\n",
    "                scatter = True,\n",
    "                fit_reg = False,\n",
    "                label = source,\n",
    "                ax = ax2,\n",
    "                color=c, scatter_kws={'s':6})\n",
    "    \n",
    "    ax2.legend()\n",
    "    sns.regplot(x3,\n",
    "                y3,\n",
    "                scatter = True,\n",
    "                fit_reg = False,\n",
    "                label = source,\n",
    "                ax = ax3,\n",
    "                color=c, scatter_kws={'s':6})\n",
    "    sns.regplot(x4,\n",
    "                y4,\n",
    "                scatter = True,\n",
    "                fit_reg = False,\n",
    "                label = source,\n",
    "                ax = ax4,\n",
    "                color=c, scatter_kws={'s':6})\n",
    "    #ax2.relim()\n",
    "    ax2.autoscale_view()\n",
    "\n",
    "plt.show()"
   ]
  },
  {
   "cell_type": "code",
   "execution_count": null,
   "id": "c64f4492-4d0b-462e-b702-87691358a7cb",
   "metadata": {},
   "outputs": [],
   "source": [
    "df.info()"
   ]
  },
  {
   "cell_type": "code",
   "execution_count": null,
   "id": "eb86c9eb-33b5-4529-a848-8b10be17df53",
   "metadata": {},
   "outputs": [],
   "source": []
  },
  {
   "cell_type": "markdown",
   "id": "19cc0f29-6fa0-4adc-b0a7-ccad6892b4c0",
   "metadata": {},
   "source": [
    "## Additional install requirements\n",
    "\n",
    "- plotly-geo\n",
    "- geopandas==0.3.0\n",
    "- pyshp==1.2.10\n",
    "- shapely==1.6.3"
   ]
  },
  {
   "cell_type": "code",
   "execution_count": null,
   "id": "5bbfa0f8-3673-4413-8799-2bec92e82d6d",
   "metadata": {},
   "outputs": [],
   "source": []
  }
 ],
 "metadata": {
  "kernelspec": {
   "display_name": "Python 3 (ipykernel)",
   "language": "python",
   "name": "python3"
  },
  "language_info": {
   "codemirror_mode": {
    "name": "ipython",
    "version": 3
   },
   "file_extension": ".py",
   "mimetype": "text/x-python",
   "name": "python",
   "nbconvert_exporter": "python",
   "pygments_lexer": "ipython3",
   "version": "3.9.4"
  }
 },
 "nbformat": 4,
 "nbformat_minor": 5
}
