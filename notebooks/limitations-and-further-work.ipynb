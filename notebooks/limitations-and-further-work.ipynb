{
 "cells": [
  {
   "cell_type": "markdown",
   "id": "37aae8ff-b8db-47c8-ae5a-bef0120d9892",
   "metadata": {},
   "source": [
    "## Limitations of this work\n",
    "\n",
    "Based on the given data set, we were unable to provide specific recommendations to fulfill the *criterea of social responsibility*. This is also due to the *lack of a clear definition* of the term.\n",
    "In addition, there have *no projections* of any kind been conducted."
   ]
  },
  {
   "cell_type": "markdown",
   "id": "fbf7b57b-5fb3-4ccb-9472-86ae4143c991",
   "metadata": {},
   "source": [
    "## Suggestions for further work\n",
    "\n",
    "- verify \"poor neighborhoods\" with additional (up-to-date) domain knowledge\n",
    "- assess neighborhood development to identify those neighborhoods that are closing to moving up ranks from poor to middle class\n",
    "- define 'social responsibility' and collect additional data where needed to narrow down recommendation list\n"
   ]
  },
  {
   "cell_type": "code",
   "execution_count": null,
   "id": "ec2c4ac8-6682-432f-8ec9-3a73f84f8ce2",
   "metadata": {},
   "outputs": [],
   "source": []
  }
 ],
 "metadata": {
  "kernelspec": {
   "display_name": "Python 3 (ipykernel)",
   "language": "python",
   "name": "python3"
  },
  "language_info": {
   "codemirror_mode": {
    "name": "ipython",
    "version": 3
   },
   "file_extension": ".py",
   "mimetype": "text/x-python",
   "name": "python",
   "nbconvert_exporter": "python",
   "pygments_lexer": "ipython3",
   "version": "3.9.4"
  }
 },
 "nbformat": 4,
 "nbformat_minor": 5
}
